{
 "cells": [
  {
   "cell_type": "code",
   "execution_count": 78,
   "metadata": {},
   "outputs": [],
   "source": [
    "import numpy as np\n",
    "import pandas as pd"
   ]
  },
  {
   "cell_type": "code",
   "execution_count": 79,
   "metadata": {},
   "outputs": [
    {
     "data": {
      "text/plain": [
       "2"
      ]
     },
     "execution_count": 79,
     "metadata": {},
     "output_type": "execute_result"
    }
   ],
   "source": [
    "def bitStringCount(bitString):\n",
    "    listString = list(bitString)\n",
    "    listString = [int(i) for i in listString]\n",
    "    return sum(listString)\n",
    "bitStringCount(\"0101\")"
   ]
  },
  {
   "cell_type": "code",
   "execution_count": 80,
   "metadata": {},
   "outputs": [
    {
     "data": {
      "text/plain": [
       "[1, 0, 0, 0, 0]"
      ]
     },
     "execution_count": 80,
     "metadata": {},
     "output_type": "execute_result"
    }
   ],
   "source": [
    "import random\n",
    "random.seed(1234)\n",
    "def bitStringGen(n):\n",
    "    bitString = []\n",
    "    for i in range (0,n):\n",
    "        bitString.append(random.choice([0,1]))\n",
    "    return bitString\n",
    "bitStringGen(5)\n",
    "        "
   ]
  },
  {
   "cell_type": "code",
   "execution_count": 81,
   "metadata": {},
   "outputs": [
    {
     "data": {
      "text/plain": [
       "1"
      ]
     },
     "execution_count": 81,
     "metadata": {},
     "output_type": "execute_result"
    }
   ],
   "source": [
    "def hammingDistance(bitString1, bitString2):\n",
    "    distance = 0\n",
    "    for i in range(0,len(bitString1)):\n",
    "        if bitString1[i] != bitString2[i]:\n",
    "            distance = distance + 1\n",
    "    return distance\n",
    "hammingDistance([0,1,0],[1,1,0])"
   ]
  },
  {
   "cell_type": "code",
   "execution_count": 82,
   "metadata": {},
   "outputs": [
    {
     "data": {
      "text/plain": [
       "[0, 0, 1, 1, 1]"
      ]
     },
     "execution_count": 82,
     "metadata": {},
     "output_type": "execute_result"
    }
   ],
   "source": [
    "def randomSearch(n, maxNumber):\n",
    "    best = 0\n",
    "    bestNew = []\n",
    "    for i in range(0,maxNumber):\n",
    "        newString = bitStringGen(n)\n",
    "        comp = bitStringCount(newString)\n",
    "        if comp > best:\n",
    "            bestNew = newString\n",
    "            best = comp\n",
    "    return bestNew\n",
    "randomSearch(5,10)\n",
    "                "
   ]
  },
  {
   "cell_type": "code",
   "execution_count": 83,
   "metadata": {},
   "outputs": [],
   "source": [
    "def fitnessFunc(solution):\n",
    "    return sum(solution)\n"
   ]
  },
  {
   "cell_type": "code",
   "execution_count": 84,
   "metadata": {},
   "outputs": [
    {
     "name": "stdout",
     "output_type": "stream",
     "text": [
      "[0, 1, 2, 3, 4, 5, 6, 4, 7, 8, 8, 9, 9, 10, 12, 12, 12, 12, 13, 14, 14, 13, 16, 16, 15, 15, 17, 16, 20, 20, 18, 20, 26, 20, 24, 21, 22, 22, 27, 25, 24, 28, 28, 28, 32, 26, 29, 29, 32, 32, 30, 33, 34, 34, 33, 38, 38, 35, 40, 36, 37, 40, 39, 35, 41, 44, 38, 39, 45, 43, 42, 44, 43, 44, 45, 44, 49, 46, 47, 46, 52, 48, 51, 49, 49, 49, 54, 50, 52, 57, 52, 57, 56, 60, 54, 56, 53, 62, 60, 59]\n"
     ]
    }
   ],
   "source": [
    "avgFitness = []\n",
    "xVal = []\n",
    "import matplotlib.pyplot as plt\n",
    "for i in range (0,100):\n",
    "    fit = randomSearch(i,20)\n",
    "    score = bitStringCount(fit)\n",
    "    avgFitness.append(score)\n",
    "    xVal.append(i)\n",
    "\n",
    "print(avgFitness)\n"
   ]
  },
  {
   "cell_type": "code",
   "execution_count": 85,
   "metadata": {},
   "outputs": [
    {
     "data": {
      "text/plain": [
       "[0, 0, 0]"
      ]
     },
     "execution_count": 85,
     "metadata": {},
     "output_type": "execute_result"
    }
   ],
   "source": [
    "def bitFlip(bitstring,prob):\n",
    "    for choice in range (0,len(bitstring)):\n",
    "        if random.random()<prob:\n",
    "            if bitstring[choice] == 1:\n",
    "                bitstring[choice] = 0\n",
    "            else:\n",
    "                bitstring[choice] = 1\n",
    "\n",
    "    return bitstring\n",
    "bitFlip([0,0,0],0.1)\n",
    "\n",
    "    "
   ]
  },
  {
   "cell_type": "code",
   "execution_count": 86,
   "metadata": {},
   "outputs": [],
   "source": [
    "def hillClimber(bitString, count):\n",
    "    print(count)\n",
    "    count = count + 1\n",
    "    bitStringCopy = bitString.copy()\n",
    "    bitStringCopy = bitFlip(bitStringCopy,0.1)\n",
    "    if fitnessFunc(bitStringCopy) > fitnessFunc(bitString):\n",
    "        return hillClimber(bitStringCopy, count)\n",
    "    if sum(bitStringCopy) == len(bitString):\n",
    "        return count\n",
    "    return hillClimber(bitString, count)\n",
    "bitString = bitStringGen(100)\n",
    "#hillClimber(bitString,0)"
   ]
  },
  {
   "cell_type": "code",
   "execution_count": 87,
   "metadata": {},
   "outputs": [
    {
     "name": "stdout",
     "output_type": "stream",
     "text": [
      "Hello\n"
     ]
    }
   ],
   "source": [
    "\n",
    "def parralelHillClimber(bitString):\n",
    "    bitStrings = []\n",
    "    bitStringsScores = []\n",
    "    for i in range (0,10000):\n",
    "        bitStringCopy = bitString.copy()\n",
    "        bitStringCopy = bitFlip(bitStringCopy,0.01)\n",
    "        bitStrings.append(bitStringCopy)\n",
    "        bitStringCopyScore = fitnessFunc(bitStringCopy)\n",
    "        bitStringsScores.append(bitStringCopyScore)\n",
    "\n",
    "    largest = max(bitStringsScores)\n",
    "    indexofLargest = bitStringsScores.index(largest)\n",
    "    if largest < len(bitString):\n",
    "        return parralelHillClimber(bitStrings[indexofLargest])\n",
    "    else:\n",
    "        return largest, bitStrings[indexofLargest]\n",
    "bitString = bitStringGen(100)\n",
    "parralelHillClimber(bitString)\n",
    "print(\"Hello\")\n"
   ]
  },
  {
   "cell_type": "code",
   "execution_count": 88,
   "metadata": {},
   "outputs": [],
   "source": [
    "bitStrings = []\n",
    "for i in range (0,19):\n",
    "    x = bitStringGen(20)\n",
    "    bitStrings.append(x)"
   ]
  },
  {
   "cell_type": "code",
   "execution_count": 89,
   "metadata": {},
   "outputs": [
    {
     "data": {
      "text/plain": [
       "[0, 0, 1, 0, 1, 1, 1, 0, 0, 0, 0, 0, 1, 1, 0, 1, 0, 1, 0, 1]"
      ]
     },
     "execution_count": 89,
     "metadata": {},
     "output_type": "execute_result"
    }
   ],
   "source": [
    "bitStrings[2]= [0, 1, 1, 10, 1, 1, 1, 0, 0, 0, 0, 1, 1, 1, 1, 1, 1, 0, 0, 1]\n",
    "def rouletteWheel(bitStrings):\n",
    "    scores = []\n",
    "    scoresNormalised = []\n",
    "    scoresNormalisedSum = 0\n",
    "    number = random.random()  # Random number between 0 and 1\n",
    "\n",
    "    # Calculate the fitness scores for each bit string\n",
    "    for i in bitStrings:\n",
    "        score = fitnessFunc(i)\n",
    "        scores.append(score)\n",
    "\n",
    "    # Normalize the fitness scores\n",
    "    totalScore = sum(scores)\n",
    "    for score in scores:\n",
    "        scoresNormalised.append(score / totalScore)\n",
    "\n",
    "    # Select based on the roulette wheel method\n",
    "    for i in range(0, len(scoresNormalised)):\n",
    "        scoresNormalisedSum += scoresNormalised[i]\n",
    "        if number <= scoresNormalisedSum:  # Select when the number falls in the range\n",
    "            return bitStrings[i]\n",
    "rouletteWheel(bitStrings)"
   ]
  },
  {
   "cell_type": "code",
   "execution_count": 90,
   "metadata": {},
   "outputs": [],
   "source": [
    "\n",
    "# Provided tournament selection function\n",
    "def tournamentSelection(bitStrings, k, parentSize):\n",
    "    parents = []\n",
    "    for i in range(parentSize):\n",
    "        for j in range(k):\n",
    "            if j == 0:\n",
    "                best = random.choice(bitStrings)\n",
    "            else:\n",
    "                choice = random.choice(bitStrings)\n",
    "                if fitnessFunc(choice) > fitnessFunc(best):\n",
    "                    best = choice\n",
    "        parents.append(best)\n",
    "    return parents\n"
   ]
  },
  {
   "cell_type": "code",
   "execution_count": 91,
   "metadata": {},
   "outputs": [
    {
     "data": {
      "text/plain": [
       "100"
      ]
     },
     "execution_count": 91,
     "metadata": {},
     "output_type": "execute_result"
    }
   ],
   "source": [
    "\n",
    "def parralelHillClimber(bitString):\n",
    "    bitStrings = []\n",
    "    bitStringsScores = []\n",
    "    for i in range (0,10000):\n",
    "        bitStringCopy = bitString.copy()\n",
    "        bitStringCopy = bitFlip(bitStringCopy,0.01)\n",
    "        bitStrings.append(bitStringCopy)\n",
    "        bitStringCopyScore = fitnessFunc(bitStringCopy)\n",
    "        bitStringsScores.append(bitStringCopyScore)\n",
    "\n",
    "    largest = max(bitStringsScores)\n",
    "    indexofLargest = bitStringsScores.index(largest)\n",
    "    if largest < len(bitString):\n",
    "        return parralelHillClimber(bitStrings[indexofLargest])\n",
    "    else:\n",
    "        return largest\n",
    "bitString = bitStringGen(100)\n",
    "parralelHillClimber(bitString)\n"
   ]
  },
  {
   "cell_type": "code",
   "execution_count": 92,
   "metadata": {},
   "outputs": [
    {
     "name": "stdout",
     "output_type": "stream",
     "text": [
      "Result: (100, 35)\n"
     ]
    }
   ],
   "source": [
    "\n",
    "def parralellHillClimberWithTournament(bitString, count):\n",
    "    #print(f\"Initial bitString: {bitString}, count: {count}\")\n",
    "    \n",
    "    largest = fitnessFunc(bitString)\n",
    "    #print(f\"Initial fitness: {largest}\")\n",
    "    \n",
    "    bitStrings = []\n",
    "    for i in range(0, 10000):\n",
    "        bitStringCopy = bitString.copy()\n",
    "        bitStringCopy = bitFlip(bitStringCopy, 0.01)\n",
    "        bitStrings.append(bitStringCopy)\n",
    "\n",
    "\n",
    "    largestChoice = tournamentSelection(bitStrings, 100, 1)\n",
    "    \n",
    "    indexofLargest = bitStrings.index(largestChoice[0])\n",
    "    \n",
    "    if largest < len(bitString):\n",
    "        count = count + 1\n",
    "        return parralellHillClimberWithTournament(bitStrings[indexofLargest], count)\n",
    "    else:\n",
    "        return largest, count\n",
    "\n",
    "# Example usage:\n",
    "bitString = bitStringGen(100)\n",
    "result = parralellHillClimberWithTournament(bitString, 0)\n",
    "print(f\"Result: {result}\")"
   ]
  },
  {
   "cell_type": "code",
   "execution_count": 93,
   "metadata": {},
   "outputs": [
    {
     "data": {
      "text/plain": [
       "[[1, 1, 1, 1, 1, 1, 1, 1, 1, 1, 1, 1],\n",
       " [0, 1, 1, 1, 1, 1, 1, 1, 1, 1, 1, 1],\n",
       " [0, 0, 1, 1, 1, 1, 1, 1, 1, 1, 1, 1],\n",
       " [0, 0, 0, 1, 1, 1, 1, 1, 1, 1, 1, 1],\n",
       " [0, 0, 0, 0, 1, 1, 1, 1, 1, 1, 1, 1],\n",
       " [0, 0, 0, 0, 0, 1, 1, 1, 1, 1, 1, 1],\n",
       " [0, 0, 0, 0, 0, 0, 1, 1, 1, 1, 1, 1],\n",
       " [0, 0, 0, 0, 0, 0, 0, 1, 1, 1, 1, 1],\n",
       " [0, 0, 0, 0, 0, 0, 0, 0, 1, 1, 1, 1],\n",
       " [0, 0, 0, 0, 0, 0, 0, 0, 0, 1, 1, 1],\n",
       " [0, 0, 0, 0, 0, 0, 0, 0, 0, 0, 1, 1],\n",
       " [0, 0, 0, 0, 0, 0, 0, 0, 0, 0, 0, 1],\n",
       " [0, 0, 0, 0, 0, 0, 0, 0, 0, 0, 0, 0]]"
      ]
     },
     "execution_count": 93,
     "metadata": {},
     "output_type": "execute_result"
    }
   ],
   "source": [
    "def generateCrossovers(length):\n",
    "    allZeros = []\n",
    "    allOnes = []\n",
    "    for i in range (0, length):\n",
    "        allZeros.append(0)\n",
    "        allOnes.append(1)\n",
    "    \n",
    "    bitStrings = []\n",
    "    for i in range (0, length+1):\n",
    "        newString = allZeros[0:i] + allOnes[i:length]\n",
    "        bitStrings.append(newString)\n",
    "    return bitStrings\n",
    "generateCrossovers(12)\n",
    "\n",
    "\n"
   ]
  },
  {
   "cell_type": "code",
   "execution_count": 94,
   "metadata": {},
   "outputs": [
    {
     "data": {
      "text/plain": [
       "[0, 0, 1, 1, 1, 1, 1, 1, 1, 1, 1, 1]"
      ]
     },
     "execution_count": 94,
     "metadata": {},
     "output_type": "execute_result"
    }
   ],
   "source": [
    "def onePointCrossover(parent1, parent2):\n",
    "    crossPoint = random.randint(0,len(parent1))\n",
    "    newString = parent1[0:crossPoint] + parent2[crossPoint:len(parent1)+1]\n",
    "    return newString\n",
    "onePointCrossover([0, 0, 0, 0, 0, 0, 0, 0, 0, 0, 0, 0],[1, 1, 1, 1, 1, 1, 1, 1, 1, 1, 1, 1])"
   ]
  },
  {
   "cell_type": "code",
   "execution_count": 95,
   "metadata": {},
   "outputs": [
    {
     "name": "stdout",
     "output_type": "stream",
     "text": [
      "Result: (10, 3)\n"
     ]
    }
   ],
   "source": [
    "\n",
    "def parralellHillClimberWithTournament(bitString, count):\n",
    "    #print(f\"Initial bitString: {bitString}, count: {count}\")\n",
    "    \n",
    "    largest = fitnessFunc(bitString)\n",
    "    #print(f\"Initial fitness: {largest}\")\n",
    "    \n",
    "    bitStrings = []\n",
    "    for i in range(0, 10000):\n",
    "        bitStringCopy = bitString.copy()\n",
    "        bitStringCopy = bitFlip(bitStringCopy, 0.01)\n",
    "        bitStrings.append(bitStringCopy)\n",
    "\n",
    "\n",
    "    largestChoice = tournamentSelection(bitStrings, 10000, 1)\n",
    "    \n",
    "    indexofLargest = bitStrings.index(largestChoice[0])\n",
    "    \n",
    "    if largest < len(bitString):\n",
    "        count = count + 1\n",
    "        return parralellHillClimberWithTournament(bitStrings[indexofLargest], count)\n",
    "    else:\n",
    "        return largest, count\n",
    "\n",
    "# Example usage:\n",
    "bitString = bitStringGen(10)\n",
    "result = parralellHillClimberWithTournament(bitString, 0)\n",
    "print(f\"Result: {result}\")"
   ]
  },
  {
   "cell_type": "code",
   "execution_count": 96,
   "metadata": {},
   "outputs": [],
   "source": [
    "def onePointCrossover(parent1, parent2):\n",
    "    crossPoint = random.randint(1, len(parent1) - 1)\n",
    "    newString = parent1[:crossPoint] + parent2[crossPoint:]\n",
    "    return newString\n"
   ]
  },
  {
   "cell_type": "code",
   "execution_count": 102,
   "metadata": {},
   "outputs": [
    {
     "name": "stdout",
     "output_type": "stream",
     "text": [
      "GEN 1 [0, 0, 1, 0, 0, 0, 0, 0, 1, 1]\n",
      "GEN 2 [0, 0, 1, 0, 1, 1, 1, 0, 0, 1]\n",
      "First bitstring chosen [0, 0, 1, 0, 1, 1, 1, 0, 0, 1]\n",
      "Second bitstring chosen [0, 0, 1, 0, 1, 1, 1, 0, 0, 1]\n",
      "First bitstring chosen [0, 0, 1, 0, 1, 1, 1, 0, 0, 1]\n",
      "Second bitstring chosen [0, 0, 1, 0, 1, 1, 1, 0, 0, 1]\n",
      "First bitstring chosen [0, 0, 1, 0, 1, 1, 1, 0, 0, 1]\n",
      "Second bitstring chosen [0, 0, 1, 0, 1, 1, 1, 0, 0, 1]\n"
     ]
    },
    {
     "ename": "KeyboardInterrupt",
     "evalue": "",
     "output_type": "error",
     "traceback": [
      "\u001b[0;31m---------------------------------------------------------------------------\u001b[0m",
      "\u001b[0;31mKeyboardInterrupt\u001b[0m                         Traceback (most recent call last)",
      "Cell \u001b[0;32mIn[102], line 34\u001b[0m\n\u001b[1;32m     31\u001b[0m bitString2 \u001b[38;5;241m=\u001b[39m bitStringGen(\u001b[38;5;241m10\u001b[39m)\n\u001b[1;32m     32\u001b[0m \u001b[38;5;28mprint\u001b[39m(\u001b[38;5;124m\"\u001b[39m\u001b[38;5;124mGEN 2\u001b[39m\u001b[38;5;124m\"\u001b[39m, bitString2)\n\u001b[0;32m---> 34\u001b[0m \u001b[43mparralellHillClimberWithCrossover\u001b[49m\u001b[43m(\u001b[49m\u001b[43mbitString\u001b[49m\u001b[43m,\u001b[49m\u001b[43m \u001b[49m\u001b[43mbitString2\u001b[49m\u001b[43m,\u001b[49m\u001b[43m \u001b[49m\u001b[38;5;241;43m0\u001b[39;49m\u001b[43m)\u001b[49m\n",
      "Cell \u001b[0;32mIn[102], line 24\u001b[0m, in \u001b[0;36mparralellHillClimberWithCrossover\u001b[0;34m(bitString, bitString2, count)\u001b[0m\n\u001b[1;32m     22\u001b[0m \u001b[38;5;28;01mif\u001b[39;00m largest \u001b[38;5;241m<\u001b[39m \u001b[38;5;28mlen\u001b[39m(bitString):\n\u001b[1;32m     23\u001b[0m     count \u001b[38;5;241m=\u001b[39m count \u001b[38;5;241m+\u001b[39m \u001b[38;5;241m1\u001b[39m\n\u001b[0;32m---> 24\u001b[0m     \u001b[38;5;28;01mreturn\u001b[39;00m \u001b[43mparralellHillClimberWithCrossover\u001b[49m\u001b[43m(\u001b[49m\u001b[43mbitString\u001b[49m\u001b[43m,\u001b[49m\u001b[43mbitString2\u001b[49m\u001b[43m,\u001b[49m\u001b[43mcount\u001b[49m\u001b[43m)\u001b[49m\n\u001b[1;32m     25\u001b[0m \u001b[38;5;28;01melse\u001b[39;00m:\n\u001b[1;32m     26\u001b[0m     \u001b[38;5;28;01mreturn\u001b[39;00m largest, count\n",
      "Cell \u001b[0;32mIn[102], line 24\u001b[0m, in \u001b[0;36mparralellHillClimberWithCrossover\u001b[0;34m(bitString, bitString2, count)\u001b[0m\n\u001b[1;32m     22\u001b[0m \u001b[38;5;28;01mif\u001b[39;00m largest \u001b[38;5;241m<\u001b[39m \u001b[38;5;28mlen\u001b[39m(bitString):\n\u001b[1;32m     23\u001b[0m     count \u001b[38;5;241m=\u001b[39m count \u001b[38;5;241m+\u001b[39m \u001b[38;5;241m1\u001b[39m\n\u001b[0;32m---> 24\u001b[0m     \u001b[38;5;28;01mreturn\u001b[39;00m \u001b[43mparralellHillClimberWithCrossover\u001b[49m\u001b[43m(\u001b[49m\u001b[43mbitString\u001b[49m\u001b[43m,\u001b[49m\u001b[43mbitString2\u001b[49m\u001b[43m,\u001b[49m\u001b[43mcount\u001b[49m\u001b[43m)\u001b[49m\n\u001b[1;32m     25\u001b[0m \u001b[38;5;28;01melse\u001b[39;00m:\n\u001b[1;32m     26\u001b[0m     \u001b[38;5;28;01mreturn\u001b[39;00m largest, count\n",
      "Cell \u001b[0;32mIn[102], line 18\u001b[0m, in \u001b[0;36mparralellHillClimberWithCrossover\u001b[0;34m(bitString, bitString2, count)\u001b[0m\n\u001b[1;32m     15\u001b[0m bitString2 \u001b[38;5;241m=\u001b[39m random\u001b[38;5;241m.\u001b[39mchoice(bitStrings)\n\u001b[1;32m     16\u001b[0m \u001b[38;5;28mprint\u001b[39m(\u001b[38;5;124m\"\u001b[39m\u001b[38;5;124mSecond bitstring chosen\u001b[39m\u001b[38;5;124m\"\u001b[39m, bitString2)\n\u001b[0;32m---> 18\u001b[0m time\u001b[38;5;241m.\u001b[39msleep(\u001b[38;5;241m1\u001b[39m)\n\u001b[1;32m     22\u001b[0m \u001b[38;5;28;01mif\u001b[39;00m largest \u001b[38;5;241m<\u001b[39m \u001b[38;5;28mlen\u001b[39m(bitString):\n\u001b[1;32m     23\u001b[0m     count \u001b[38;5;241m=\u001b[39m count \u001b[38;5;241m+\u001b[39m \u001b[38;5;241m1\u001b[39m\n",
      "\u001b[0;31mKeyboardInterrupt\u001b[0m: "
     ]
    }
   ],
   "source": [
    "\n",
    "import time\n",
    "def parralellHillClimberWithCrossover(bitString,bitString2, count):\n",
    "    \n",
    "    largest = fitnessFunc(bitString)\n",
    "    \n",
    "    bitStrings = []\n",
    "    for i in range(0, 1000):\n",
    "        bitStringCopy = bitString.copy()\n",
    "        bitString2Copy = bitString2.copy()\n",
    "        childBitString = onePointCrossover(bitStringCopy, bitString2Copy)\n",
    "        bitStrings.append(childBitString)\n",
    "    \n",
    "    bitString = random.choice(bitStrings)\n",
    "    print(\"First bitstring chosen\", bitString)\n",
    "    bitString2 = random.choice(bitStrings)\n",
    "    print(\"Second bitstring chosen\", bitString2)\n",
    "\n",
    "    time.sleep(1)\n",
    "\n",
    "\n",
    "    \n",
    "    if largest < len(bitString):\n",
    "        count = count + 1\n",
    "        return parralellHillClimberWithCrossover(bitString,bitString2,count)\n",
    "    else:\n",
    "        return largest, count\n",
    "\n",
    "# Example usage:\n",
    "bitString = bitStringGen(10)\n",
    "print(\"GEN 1\", bitString)\n",
    "bitString2 = bitStringGen(10)\n",
    "print(\"GEN 2\", bitString2)\n",
    "\n",
    "parralellHillClimberWithCrossover(bitString, bitString2, 0)"
   ]
  }
 ],
 "metadata": {
  "kernelspec": {
   "display_name": "Python 3",
   "language": "python",
   "name": "python3"
  },
  "language_info": {
   "codemirror_mode": {
    "name": "ipython",
    "version": 3
   },
   "file_extension": ".py",
   "mimetype": "text/x-python",
   "name": "python",
   "nbconvert_exporter": "python",
   "pygments_lexer": "ipython3",
   "version": "3.11.10"
  }
 },
 "nbformat": 4,
 "nbformat_minor": 2
}
